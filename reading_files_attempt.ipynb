{
 "cells": [
  {
   "cell_type": "code",
   "execution_count": 1,
   "metadata": {},
   "outputs": [
    {
     "name": "stdout",
     "output_type": "stream",
     "text": [
      "Defaulting to user installation because normal site-packages is not writeable\n",
      "Collecting zarr\n",
      "  Downloading zarr-3.0.1-py3-none-any.whl.metadata (9.5 kB)\n",
      "Collecting donfig>=0.8 (from zarr)\n",
      "  Downloading donfig-0.8.1.post1-py3-none-any.whl.metadata (5.0 kB)\n",
      "Collecting numcodecs>=0.14 (from numcodecs[crc32c]>=0.14->zarr)\n",
      "  Downloading numcodecs-0.15.0-cp312-cp312-win_amd64.whl.metadata (3.0 kB)\n",
      "Requirement already satisfied: numpy>=1.25 in c:\\users\\gastan\\appdata\\roaming\\python\\python312\\site-packages (from zarr) (2.2.2)\n",
      "Requirement already satisfied: packaging>=22.0 in c:\\users\\gastan\\appdata\\roaming\\python\\python312\\site-packages (from zarr) (24.1)\n",
      "Requirement already satisfied: typing-extensions>=4.9 in c:\\users\\gastan\\appdata\\roaming\\python\\python312\\site-packages (from zarr) (4.12.2)\n",
      "Requirement already satisfied: pyyaml in c:\\programdata\\anaconda3\\lib\\site-packages (from donfig>=0.8->zarr) (6.0.1)\n",
      "Collecting deprecated (from numcodecs>=0.14->numcodecs[crc32c]>=0.14->zarr)\n",
      "  Downloading Deprecated-1.2.15-py2.py3-none-any.whl.metadata (5.5 kB)\n",
      "Collecting crc32c>=2.7 (from numcodecs[crc32c]>=0.14->zarr)\n",
      "  Downloading crc32c-2.7.1-cp312-cp312-win_amd64.whl.metadata (7.5 kB)\n",
      "Requirement already satisfied: wrapt<2,>=1.10 in c:\\programdata\\anaconda3\\lib\\site-packages (from deprecated->numcodecs>=0.14->numcodecs[crc32c]>=0.14->zarr) (1.14.1)\n",
      "Downloading zarr-3.0.1-py3-none-any.whl (181 kB)\n",
      "   ---------------------------------------- 0.0/181.4 kB ? eta -:--:--\n",
      "   ----------- --------------------------- 51.2/181.4 kB 871.5 kB/s eta 0:00:01\n",
      "   ---------------------------------------- 181.4/181.4 kB 2.2 MB/s eta 0:00:00\n",
      "Downloading donfig-0.8.1.post1-py3-none-any.whl (21 kB)\n",
      "Downloading numcodecs-0.15.0-cp312-cp312-win_amd64.whl (836 kB)\n",
      "   ---------------------------------------- 0.0/836.2 kB ? eta -:--:--\n",
      "   -------------------- ------------------- 430.1/836.2 kB 9.1 MB/s eta 0:00:01\n",
      "   --------------------------------------- 836.2/836.2 kB 10.6 MB/s eta 0:00:00\n",
      "Downloading crc32c-2.7.1-cp312-cp312-win_amd64.whl (39 kB)\n",
      "Downloading Deprecated-1.2.15-py2.py3-none-any.whl (9.9 kB)\n",
      "Installing collected packages: donfig, deprecated, crc32c, numcodecs, zarr\n",
      "Successfully installed crc32c-2.7.1 deprecated-1.2.15 donfig-0.8.1.post1 numcodecs-0.15.0 zarr-3.0.1\n",
      "Note: you may need to restart the kernel to use updated packages.\n"
     ]
    }
   ],
   "source": [
    "pip install zarr"
   ]
  },
  {
   "cell_type": "code",
   "execution_count": null,
   "metadata": {},
   "outputs": [],
   "source": [
    "import zarr\n",
    "\n",
    "# Open a local Zarr file (read mode)\n",
    "path = 'data/train/static/ExperimentRuns/TS_6_4/VoxelSpacing10.000/ctfdeconvolved.zarr/1/0/0/0'\n",
    "zarr_file = zarr.open(path, mode='r')\n",
    "\n",
    "# If you want to inspect the contents (show groups and arrays)\n",
    "print(zarr_file)\n"
   ]
  },
  {
   "cell_type": "code",
   "execution_count": null,
   "metadata": {},
   "outputs": [],
   "source": [
    "\n",
    "# Access a specific array (if it exists in the Zarr file)\n",
    "array_name = 'array_name'  # Replace with actual array name\n",
    "if array_name in zarr_file:\n",
    "    array_data = zarr_file[array_name]\n",
    "    print(array_data[:])  # Print all the data from the array (you can slice it to load part of it)\n",
    "else:\n",
    "    print(f\"Array '{array_name}' not found in Zarr file.\")\n"
   ]
  },
  {
   "cell_type": "code",
   "execution_count": null,
   "metadata": {},
   "outputs": [],
   "source": [
    "import zarr\n",
    "\n",
    "# Open a Zarr file from an S3 bucket\n",
    "zarr_file = zarr.open('s3://my-bucket/my-zarr-file.zarr', mode='r')\n",
    "\n",
    "# Access a specific array in the cloud-based Zarr file\n",
    "array_data = zarr_file['array_name']\n",
    "print(array_data[:])  # Print data from the array\n"
   ]
  }
 ],
 "metadata": {
  "kernelspec": {
   "display_name": "base",
   "language": "python",
   "name": "python3"
  },
  "language_info": {
   "codemirror_mode": {
    "name": "ipython",
    "version": 3
   },
   "file_extension": ".py",
   "mimetype": "text/x-python",
   "name": "python",
   "nbconvert_exporter": "python",
   "pygments_lexer": "ipython3",
   "version": "3.12.4"
  }
 },
 "nbformat": 4,
 "nbformat_minor": 2
}
