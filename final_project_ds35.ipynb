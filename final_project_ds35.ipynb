{
 "cells": [
  {
   "cell_type": "markdown",
   "metadata": {},
   "source": [
    "## Libraries"
   ]
  },
  {
   "cell_type": "code",
   "execution_count": 2,
   "metadata": {
    "_cell_guid": "b1076dfc-b9ad-4769-8c92-a6c4dae69d19",
    "_uuid": "8f2839f25d086af736a60e9eeb907d3b93b6e0e5",
    "execution": {
     "iopub.execute_input": "2025-01-28T08:30:04.921079Z",
     "iopub.status.busy": "2025-01-28T08:30:04.920693Z",
     "iopub.status.idle": "2025-01-28T08:30:05.318631Z",
     "shell.execute_reply": "2025-01-28T08:30:05.317557Z",
     "shell.execute_reply.started": "2025-01-28T08:30:04.921043Z"
    },
    "trusted": true
   },
   "outputs": [],
   "source": [
    "import numpy as np # linear algebra\n",
    "import pandas as pd # data processing, CSV file I/O (e.g. pd.read_csv)\n",
    "import os\n",
    "\n",
    "# You can write up to 20GB to the current directory (/kaggle/working/) that gets preserved as output when you create a version using \"Save & Run All\" \n",
    "# You can also write temporary files to /kaggle/temp/, but they won't be saved outside of the current session"
   ]
  },
  {
   "cell_type": "markdown",
   "metadata": {},
   "source": [
    "## Input files"
   ]
  },
  {
   "cell_type": "markdown",
   "metadata": {},
   "source": [
    "kaggle"
   ]
  },
  {
   "cell_type": "code",
   "execution_count": 13,
   "metadata": {
    "execution": {
     "iopub.execute_input": "2025-01-28T08:33:45.510154Z",
     "iopub.status.busy": "2025-01-28T08:33:45.509811Z",
     "iopub.status.idle": "2025-01-28T08:33:45.528192Z",
     "shell.execute_reply": "2025-01-28T08:33:45.526893Z",
     "shell.execute_reply.started": "2025-01-28T08:33:45.510130Z"
    },
    "trusted": true
   },
   "outputs": [
    {
     "name": "stdout",
     "output_type": "stream",
     "text": [
      "/kaggle/input/czii-cryo-et-object-identification/train/static/ExperimentRuns/TS_86_3/VoxelSpacing10.000/isonetcorrected.zarr/.zattrs\n",
      "/kaggle/input/czii-cryo-et-object-identification/train/static/ExperimentRuns/TS_86_3/VoxelSpacing10.000/isonetcorrected.zarr/.zgroup\n",
      "/kaggle/input/czii-cryo-et-object-identification/train/static/ExperimentRuns/TS_86_3/VoxelSpacing10.000/isonetcorrected.zarr/2/.zarray\n",
      "/kaggle/input/czii-cryo-et-object-identification/train/static/ExperimentRuns/TS_86_3/VoxelSpacing10.000/isonetcorrected.zarr/2/0/0/0\n",
      "/kaggle/input/czii-cryo-et-object-identification/train/static/ExperimentRuns/TS_86_3/VoxelSpacing10.000/isonetcorrected.zarr/0/.zarray\n",
      "/kaggle/input/czii-cryo-et-object-identification/train/static/ExperimentRuns/TS_86_3/VoxelSpacing10.000/isonetcorrected.zarr/0/0/2/2\n",
      "/kaggle/input/czii-cryo-et-object-identification/train/static/ExperimentRuns/TS_86_3/VoxelSpacing10.000/isonetcorrected.zarr/0/0/2/0\n",
      "/kaggle/input/czii-cryo-et-object-identification/train/static/ExperimentRuns/TS_86_3/VoxelSpacing10.000/isonetcorrected.zarr/0/0/2/1\n",
      "/kaggle/input/czii-cryo-et-object-identification/train/static/ExperimentRuns/TS_86_3/VoxelSpacing10.000/isonetcorrected.zarr/0/0/0/2\n",
      "/kaggle/input/czii-cryo-et-object-identification/train/static/ExperimentRuns/TS_86_3/VoxelSpacing10.000/isonetcorrected.zarr/0/0/0/0\n",
      "/kaggle/input/czii-cryo-et-object-identification/train/static/ExperimentRuns/TS_86_3/VoxelSpacing10.000/isonetcorrected.zarr/0/0/0/1\n",
      "/kaggle/input/czii-cryo-et-object-identification/train/static/ExperimentRuns/TS_86_3/VoxelSpacing10.000/isonetcorrected.zarr/0/0/1/2\n",
      "/kaggle/input/czii-cryo-et-object-identification/train/static/ExperimentRuns/TS_86_3/VoxelSpacing10.000/isonetcorrected.zarr/0/0/1/0\n",
      "/kaggle/input/czii-cryo-et-object-identification/train/static/ExperimentRuns/TS_86_3/VoxelSpacing10.000/isonetcorrected.zarr/0/0/1/1\n",
      "/kaggle/input/czii-cryo-et-object-identification/train/static/ExperimentRuns/TS_86_3/VoxelSpacing10.000/isonetcorrected.zarr/1/.zarray\n",
      "/kaggle/input/czii-cryo-et-object-identification/train/static/ExperimentRuns/TS_86_3/VoxelSpacing10.000/isonetcorrected.zarr/1/0/0/0\n",
      "/kaggle/input/czii-cryo-et-object-identification/train/static/ExperimentRuns/TS_86_3/VoxelSpacing10.000/isonetcorrected.zarr/1/0/0/1\n",
      "/kaggle/input/czii-cryo-et-object-identification/train/static/ExperimentRuns/TS_86_3/VoxelSpacing10.000/isonetcorrected.zarr/1/0/1/0\n",
      "/kaggle/input/czii-cryo-et-object-identification/train/static/ExperimentRuns/TS_86_3/VoxelSpacing10.000/isonetcorrected.zarr/1/0/1/1\n"
     ]
    }
   ],
   "source": [
    "for dirname, _, filenames in os.walk('/kaggle/input/czii-cryo-et-object-identification/train/static/ExperimentRuns/TS_86_3/VoxelSpacing10.000/isonetcorrected.zarr/'):\n",
    "    for filename in filenames:\n",
    "        print(os.path.join(dirname, filename))"
   ]
  },
  {
   "cell_type": "markdown",
   "metadata": {},
   "source": [
    "local"
   ]
  },
  {
   "cell_type": "code",
   "execution_count": 4,
   "metadata": {},
   "outputs": [
    {
     "name": "stdout",
     "output_type": "stream",
     "text": [
      "data/train/static/ExperimentRuns/TS_6_6/VoxelSpacing10.000/isonetcorrected.zarr/.zattrs\n",
      "data/train/static/ExperimentRuns/TS_6_6/VoxelSpacing10.000/isonetcorrected.zarr/.zgroup\n",
      "data/train/static/ExperimentRuns/TS_6_6/VoxelSpacing10.000/isonetcorrected.zarr/0\\.zarray\n",
      "data/train/static/ExperimentRuns/TS_6_6/VoxelSpacing10.000/isonetcorrected.zarr/0\\0\\0\\0\n",
      "data/train/static/ExperimentRuns/TS_6_6/VoxelSpacing10.000/isonetcorrected.zarr/0\\0\\0\\1\n",
      "data/train/static/ExperimentRuns/TS_6_6/VoxelSpacing10.000/isonetcorrected.zarr/0\\0\\0\\2\n",
      "data/train/static/ExperimentRuns/TS_6_6/VoxelSpacing10.000/isonetcorrected.zarr/0\\0\\1\\0\n",
      "data/train/static/ExperimentRuns/TS_6_6/VoxelSpacing10.000/isonetcorrected.zarr/0\\0\\1\\1\n",
      "data/train/static/ExperimentRuns/TS_6_6/VoxelSpacing10.000/isonetcorrected.zarr/0\\0\\1\\2\n",
      "data/train/static/ExperimentRuns/TS_6_6/VoxelSpacing10.000/isonetcorrected.zarr/0\\0\\2\\0\n",
      "data/train/static/ExperimentRuns/TS_6_6/VoxelSpacing10.000/isonetcorrected.zarr/0\\0\\2\\1\n",
      "data/train/static/ExperimentRuns/TS_6_6/VoxelSpacing10.000/isonetcorrected.zarr/0\\0\\2\\2\n",
      "data/train/static/ExperimentRuns/TS_6_6/VoxelSpacing10.000/isonetcorrected.zarr/1\\.zarray\n",
      "data/train/static/ExperimentRuns/TS_6_6/VoxelSpacing10.000/isonetcorrected.zarr/1\\0\\0\\0\n",
      "data/train/static/ExperimentRuns/TS_6_6/VoxelSpacing10.000/isonetcorrected.zarr/1\\0\\0\\1\n",
      "data/train/static/ExperimentRuns/TS_6_6/VoxelSpacing10.000/isonetcorrected.zarr/1\\0\\1\\0\n",
      "data/train/static/ExperimentRuns/TS_6_6/VoxelSpacing10.000/isonetcorrected.zarr/1\\0\\1\\1\n",
      "data/train/static/ExperimentRuns/TS_6_6/VoxelSpacing10.000/isonetcorrected.zarr/2\\.zarray\n",
      "data/train/static/ExperimentRuns/TS_6_6/VoxelSpacing10.000/isonetcorrected.zarr/2\\0\\0\\0\n"
     ]
    }
   ],
   "source": [
    "for dirname, _, filenames in os.walk('data/train/static/ExperimentRuns/TS_6_6/VoxelSpacing10.000/isonetcorrected.zarr/'):\n",
    "    for filename in filenames:\n",
    "        print(os.path.join(dirname, filename))"
   ]
  },
  {
   "cell_type": "code",
   "execution_count": null,
   "metadata": {
    "trusted": true
   },
   "outputs": [],
   "source": [
    "# train_df = pd.read_csv('/kaggle/input/czii-cryo-et-object-identification/train/static/ExperimentRuns/TS_86_3/VoxelSpacing10.000')\n",
    "#train_df.sample(10)"
   ]
  }
 ],
 "metadata": {
  "kernelspec": {
   "display_name": "Python 3",
   "language": "python",
   "name": "python3"
  },
  "language_info": {
   "codemirror_mode": {
    "name": "ipython",
    "version": 3
   },
   "file_extension": ".py",
   "mimetype": "text/x-python",
   "name": "python",
   "nbconvert_exporter": "python",
   "pygments_lexer": "ipython3",
   "version": "3.12.7"
  }
 },
 "nbformat": 4,
 "nbformat_minor": 4
}
